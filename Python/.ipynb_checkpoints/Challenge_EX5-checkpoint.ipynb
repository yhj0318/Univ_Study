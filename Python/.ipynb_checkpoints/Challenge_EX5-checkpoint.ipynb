{
 "cells": [
  {
   "cell_type": "code",
   "execution_count": 1,
   "id": "41c9af7b",
   "metadata": {},
   "outputs": [],
   "source": [
    "# 1번 난수를 리스트로 생성하고 리스트와 정렬된 리스트, 내림차순으로 정렬된 역순 리스트를 출력하는 프로그램"
   ]
  },
  {
   "cell_type": "code",
   "execution_count": 12,
   "id": "c3b6413c",
   "metadata": {},
   "outputs": [
    {
     "name": "stdout",
     "output_type": "stream",
     "text": [
      "리스트 [57, 35, 43, 3, 63, 44, 84, 38, 44, 8]\n",
      "정렬 리스트 [3, 8, 35, 38, 43, 44, 44, 57, 63, 84]\n",
      "역순 리스트 [84, 63, 57, 44, 44, 43, 38, 35, 8, 3]\n"
     ]
    }
   ],
   "source": [
    "from random import randint\n",
    "import random\n",
    "random_num = []\n",
    "for i in range(10):\n",
    "    random_num.append(random.randint(1, 99))\n",
    "print('리스트 {}'.format(random_num))\n",
    "random_num.sort()\n",
    "print('정렬 리스트 {}'.format(random_num))\n",
    "random_num.sort(reverse=True)\n",
    "print('역순 리스트 {}'.format(random_num))"
   ]
  },
  {
   "cell_type": "code",
   "execution_count": 13,
   "id": "0e911a98",
   "metadata": {},
   "outputs": [],
   "source": [
    "# 2번 한글을 영어로 만들고 한글을 입력받아 영어로 출력하는 프로그램"
   ]
  },
  {
   "cell_type": "code",
   "execution_count": null,
   "id": "27d6193b",
   "metadata": {},
   "outputs": [],
   "source": [
    "korean = ('정렬', '초보자', '내포', '사전')\n",
    "english = ('sorting', 'novice', 'comprehension', 'dictionary')\n",
    "word = input('찾을 단어 입력 ? ')\n",
    "while True:\n",
    "    if word == korea"
   ]
  }
 ],
 "metadata": {
  "kernelspec": {
   "display_name": "Python 3 (ipykernel)",
   "language": "python",
   "name": "python3"
  },
  "language_info": {
   "codemirror_mode": {
    "name": "ipython",
    "version": 3
   },
   "file_extension": ".py",
   "mimetype": "text/x-python",
   "name": "python",
   "nbconvert_exporter": "python",
   "pygments_lexer": "ipython3",
   "version": "3.11.4"
  }
 },
 "nbformat": 4,
 "nbformat_minor": 5
}
