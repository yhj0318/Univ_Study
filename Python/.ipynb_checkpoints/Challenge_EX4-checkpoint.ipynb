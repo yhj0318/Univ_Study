{
 "cells": [
  {
   "cell_type": "code",
   "execution_count": 1,
   "id": "09244a47",
   "metadata": {},
   "outputs": [],
   "source": [
    "#1번 month를 입력하면 계절을 출력하는 프로그램"
   ]
  },
  {
   "cell_type": "code",
   "execution_count": 2,
   "id": "014c6915",
   "metadata": {},
   "outputs": [
    {
     "name": "stdout",
     "output_type": "stream",
     "text": [
      "월 입력 ? 9\n",
      "9월 가을\n"
     ]
    }
   ],
   "source": [
    "month = int(input('월 입력 ? '))\n",
    "if month == 4 or month == 5:\n",
    "    print('{}월 봄'.format(month))\n",
    "if month == 6 or month == 7 or month == 8:\n",
    "    print('{}월 여름'.format(month))\n",
    "if month == 9 or month == 10:\n",
    "    print('{}월 가을'.format(month))\n",
    "if month == 11 or month == 12 or month == 1 or month == 2 or month == 3:\n",
    "    print('{}월 겨울'.format(month))"
   ]
  },
  {
   "cell_type": "code",
   "execution_count": 3,
   "id": "f08aa138",
   "metadata": {},
   "outputs": [],
   "source": [
    "#2번 주급을 계산하는 프로그램"
   ]
  },
  {
   "cell_type": "code",
   "execution_count": 4,
   "id": "4c71728c",
   "metadata": {},
   "outputs": [
    {
     "name": "stdout",
     "output_type": "stream",
     "text": [
      "근로 시간 48시간, 주급 864000\n",
      "근로 시간 49시간, 주급 882000\n",
      "근로 시간 48시간, 주급 864000\n",
      "근로 시간 38시간, 주급 456000\n",
      "근로 시간 43시간, 주급 774000\n"
     ]
    }
   ],
   "source": [
    "from random import randint\n",
    "import random\n",
    "pay = 12000\n",
    "for i in range(5):\n",
    "    random_num = random.randint(35, 50)\n",
    "    wage_pay = random_num * pay\n",
    "    plus_pay = (random_num * pay) * 1.5\n",
    "    if random_num >= 40:\n",
    "        print('근로 시간 {}시간, 주급 {}'.format(random_num, int(plus_pay)))\n",
    "    else:\n",
    "        print('근로 시간 {}시간, 주급 {}'.format(random_num, wage_pay))"
   ]
  },
  {
   "cell_type": "code",
   "execution_count": 5,
   "id": "56929631",
   "metadata": {},
   "outputs": [],
   "source": [
    "#3번 난수를 생성하고 가장 큰 정수를 출력하는 프로그램"
   ]
  },
  {
   "cell_type": "code",
   "execution_count": 6,
   "id": "f8f7ee1a",
   "metadata": {},
   "outputs": [
    {
     "name": "stdout",
     "output_type": "stream",
     "text": [
      "77 61 95 중에서 최대: 95\n"
     ]
    }
   ],
   "source": [
    "from random import randint\n",
    "import random\n",
    "random_num = []\n",
    "for i in range(3):\n",
    "    temp = random.randint(1, 99)\n",
    "    random_num.append(temp)\n",
    "print(random_num[0], random_num[1], random_num[2], '중에서 최대:', max(random_num))"
   ]
  },
  {
   "cell_type": "code",
   "execution_count": 7,
   "id": "aac5da87",
   "metadata": {},
   "outputs": [],
   "source": [
    "#4번 BMI를 측정하고 체질량 지수를 계산해 판정 결과를 출력하는 프로그램"
   ]
  },
  {
   "cell_type": "code",
   "execution_count": 8,
   "id": "479d0c9e",
   "metadata": {},
   "outputs": [
    {
     "name": "stdout",
     "output_type": "stream",
     "text": [
      "당신의 키(cm)와 몸무게(kg)는? >> 174 73\n",
      "키: 174.0(cm), 몸무게: 73.0(kg)\n",
      "\n",
      "BMI: 24.1 정상\n"
     ]
    }
   ],
   "source": [
    "h, w = input('당신의 키(cm)와 몸무게(kg)는? >> ').split()\n",
    "h = float(h)\n",
    "w = float(w)\n",
    "bmi = w / ((h / 100)**2)\n",
    "bmi = float(bmi)\n",
    "if 40 <= bmi:\n",
    "    print('키: {:.1f}(cm), 몸무게: {:.1f}(kg)\\n'.format(h, w))\n",
    "    print('BMI: {} 고도비만'.format(bmi))\n",
    "elif 35 <= bmi < 40:\n",
    "    print('키: {:.1f}(cm), 몸무게: {:.1f}(kg)\\n'.format(h, w))\n",
    "    print('BMI: {:.1f} 중증도 비만'.format(bmi))\n",
    "elif 30 <= bmi < 35:\n",
    "    print('키: {:.1f}(cm), 몸무게: {:.1f}(kg)\\n'.format(h, w))\n",
    "    print('BMI: {:.1f} 비만'.format(bmi))\n",
    "elif 25 <= bmi < 30:\n",
    "    print('키: {:.1f}(cm), 몸무게: {:.1f}(kg)\\n'.format(h, w))\n",
    "    print('BMI: {:.1f} 과체중'.format(bmi))\n",
    "elif 18.5 <= bmi < 25:\n",
    "    print('키: {:.1f}(cm), 몸무게: {:.1f}(kg)\\n'.format(h, w))\n",
    "    print('BMI: {:.1f} 정상'.format(bmi))\n",
    "else:\n",
    "    print('키: {:.1f}(cm), 몸무게: {:.1f}(kg)\\n'.format(h, w))\n",
    "    print('BMI: {:.1f} 저체중'.format(bmi))"
   ]
  },
  {
   "cell_type": "code",
   "execution_count": 9,
   "id": "aa00099d",
   "metadata": {},
   "outputs": [],
   "source": [
    " #5번 화씨로 변환해 출력하는 프로그램"
   ]
  },
  {
   "cell_type": "code",
   "execution_count": 10,
   "id": "41e62ed2",
   "metadata": {},
   "outputs": [
    {
     "name": "stdout",
     "output_type": "stream",
     "text": [
      "섭씨: 20 화씨: 68.0 화씨(약식): 70 차이: 2.00\n",
      "섭씨: 23 화씨: 73.4 화씨(약식): 76 차이: 2.60\n",
      "섭씨: 26 화씨: 78.8 화씨(약식): 82 차이: 3.20\n",
      "섭씨: 29 화씨: 84.2 화씨(약식): 88 차이: 3.80\n",
      "섭씨: 32 화씨: 89.6 화씨(약식): 94 차이: 4.40\n",
      "섭씨: 35 화씨: 95.0 화씨(약식): 100 차이: 5.00\n",
      "섭씨: 38 화씨: 100.4 화씨(약식): 106 차이: 5.60\n",
      "섭씨: 41 화씨: 105.8 화씨(약식): 112 차이: 6.20\n"
     ]
    }
   ],
   "source": [
    "c = 20;\n",
    "while c <= 41:\n",
    "    simple_trans_f = (c * 2 + 30)\n",
    "    trans_f = (c * (9/5) + 32)\n",
    "    absolute_f = abs(trans_f - simple_trans_f)\n",
    "    print('섭씨: {} 화씨: {:.1f} 화씨(약식): {} 차이: {:.2f}'.format(c, trans_f, simple_trans_f, absolute_f))\n",
    "    c += 3"
   ]
  },
  {
   "cell_type": "code",
   "execution_count": 11,
   "id": "77b187f2",
   "metadata": {},
   "outputs": [],
   "source": [
    "#6번 난수 2개 생성하고 곱하기 결과를 출력하는 프로그램"
   ]
  },
  {
   "cell_type": "code",
   "execution_count": 12,
   "id": "61bc579f",
   "metadata": {},
   "outputs": [
    {
     "name": "stdout",
     "output_type": "stream",
     "text": [
      "68 * 37 = 2516\n",
      "\n",
      "계속 y / n ? y\n",
      "72 * 12 = 864\n",
      "\n",
      "계속 y / n ? y\n",
      "84 * 59 = 4956\n",
      "\n",
      "계속 y / n ? n\n"
     ]
    }
   ],
   "source": [
    "from random import randint\n",
    "import random\n",
    "random_temp = []\n",
    "while True:\n",
    "    for i in range(2):\n",
    "        temp = 0\n",
    "        temp = random.randint(1, 99)\n",
    "        random_temp.append(temp)\n",
    "    print('{} * {} = {}\\n'.format(random_temp[0], random_temp[1], random_temp[0] * random_temp[1]))\n",
    "    random_temp.clear()\n",
    "    q = input('계속 y / n ? ')\n",
    "    if(q == 'y'):\n",
    "        continue\n",
    "    if(q == 'n'):\n",
    "        break;"
   ]
  },
  {
   "cell_type": "code",
   "execution_count": 13,
   "id": "7419e3dd",
   "metadata": {},
   "outputs": [],
   "source": [
    "#7번 정수 1개를 표준 입력받아 소수인지 판별하는 프로그램"
   ]
  },
  {
   "cell_type": "code",
   "execution_count": 14,
   "id": "dafa7403",
   "metadata": {},
   "outputs": [
    {
     "name": "stdout",
     "output_type": "stream",
     "text": [
      "소수(prime number)인지를 판별한 2 이상의 정수 입력 >> 13\n",
      "정수 13는 소수이다.\n"
     ]
    }
   ],
   "source": [
    "num = int(input('소수(prime number)인지를 판별한 2 이상의 정수 입력 >> '))\n",
    "cnt = 0\n",
    "for i in range(1, num + 1):\n",
    "    if num % i == 0:\n",
    "        cnt += 1\n",
    "if cnt == 2:\n",
    "    print('정수 {}는 소수이다.'.format(num))\n",
    "else:\n",
    "    print('정수 {}는 소수가 아니다.'.format(num))"
   ]
  },
  {
   "cell_type": "code",
   "execution_count": 15,
   "id": "339b2f77",
   "metadata": {},
   "outputs": [],
   "source": [
    "#8번 1부터 100까지 난수를 받고 사용자가 연산자를 입력하고 피연산자를 입력하면 계산이 되어 출력하게 하는 프로그램"
   ]
  },
  {
   "cell_type": "code",
   "execution_count": 16,
   "id": "22aafc3c",
   "metadata": {},
   "outputs": [
    {
     "name": "stdout",
     "output_type": "stream",
     "text": [
      "첫 값은 38 이다\n",
      "산술 연산의 종류를 입력하세요. >> /\n",
      "두 번째 피연산자를 입력하세요. >> 20\n",
      "38 / 20.0 = 1.9\n",
      "첫 값은 38 이다\n",
      "산술 연산의 종류를 입력하세요. >> +\n",
      "두 번째 피연산자를 입력하세요. >> 60\n",
      "38 + 60.0 = 98.0\n",
      "첫 값은 38 이다\n",
      "산술 연산의 종류를 입력하세요. >> &\n",
      "*********종료*********\n"
     ]
    }
   ],
   "source": [
    "from random import randint\n",
    "import random\n",
    "cal = 0\n",
    "cal = float(cal)\n",
    "first_num = random.randint(1,100)\n",
    "while True:\n",
    "    print('첫 값은 {} 이다'.format(first_num))\n",
    "    oper = input('산술 연산의 종류를 입력하세요. >> ')\n",
    "    if oper == '+' or oper == '-' or oper == '*' or oper == '/' or oper == '%':\n",
    "        second_num = float(input('두 번째 피연산자를 입력하세요. >> '))\n",
    "        if oper == '+':\n",
    "            cal = first_num + second_num\n",
    "            print('{} {} {:.1f} = {:.1f}'.format(first_num, oper, second_num, cal))\n",
    "        if oper == '-':\n",
    "            cal = first_num - second_num\n",
    "            print('{} {} {:.1f} = {:.1f}'.format(first_num, oper, second_num, cal))\n",
    "        if oper == '*':\n",
    "            cal = first_num * second_num\n",
    "            print('{} {} {:.1f} = {:.1f}'.format(first_num, oper, second_num, cal))\n",
    "        if oper == '/':\n",
    "            cal = first_num / second_num\n",
    "            print('{} {} {:.1f} = {:.1f}'.format(first_num, oper, second_num, cal))\n",
    "        if oper == '%':\n",
    "            cal = first_num % second_num\n",
    "            print('{} {} {:.1f} = {:.1f}'.format(first_num, oper, second_num, cal))\n",
    "    else:\n",
    "        print('종료'.center(20, '*'))\n",
    "        break"
   ]
  }
 ],
 "metadata": {
  "kernelspec": {
   "display_name": "Python 3 (ipykernel)",
   "language": "python",
   "name": "python3"
  },
  "language_info": {
   "codemirror_mode": {
    "name": "ipython",
    "version": 3
   },
   "file_extension": ".py",
   "mimetype": "text/x-python",
   "name": "python",
   "nbconvert_exporter": "python",
   "pygments_lexer": "ipython3",
   "version": "3.11.4"
  }
 },
 "nbformat": 4,
 "nbformat_minor": 5
}
