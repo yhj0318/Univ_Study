{
 "cells": [
  {
   "cell_type": "code",
   "execution_count": 1,
   "id": "09244a47",
   "metadata": {},
   "outputs": [],
   "source": [
    "#1번 month를 입력하면 계절을 출력하는 프로그램"
   ]
  },
  {
   "cell_type": "code",
   "execution_count": 13,
   "id": "014c6915",
   "metadata": {},
   "outputs": [
    {
     "name": "stdout",
     "output_type": "stream",
     "text": [
      "월 입력 ? 8\n",
      "8월 여름\n"
     ]
    }
   ],
   "source": [
    "month = int(input('월 입력 ? '))\n",
    "if month == 4 or month == 5:\n",
    "    print('{}월 봄'.format(month))\n",
    "if month == 6 or month == 7 or month == 8:\n",
    "    print('{}월 여름'.format(month))\n",
    "if month == 9 or month == 10:\n",
    "    print('{}월 가을'.format(month))\n",
    "if month == 11 or month == 12 or month == 1 or month == 2 or month == 3:\n",
    "    print('{}월 겨울'.format(month))"
   ]
  },
  {
   "cell_type": "code",
   "execution_count": 14,
   "id": "f08aa138",
   "metadata": {},
   "outputs": [],
   "source": [
    "#2번 주급을 계산하는 프로그램"
   ]
  },
  {
   "cell_type": "code",
   "execution_count": 36,
   "id": "4c71728c",
   "metadata": {},
   "outputs": [
    {
     "name": "stdout",
     "output_type": "stream",
     "text": [
      "근로 시간 37시간, 주급 444000\n",
      "근로 시간 38시간, 주급 456000\n",
      "근로 시간 44시간, 주급 792000\n",
      "근로 시간 45시간, 주급 810000\n",
      "근로 시간 47시간, 주급 846000\n"
     ]
    }
   ],
   "source": [
    "from random import randint\n",
    "import random\n",
    "pay = 12000\n",
    "for i in range(5):\n",
    "    random_num = random.randint(35, 50)\n",
    "    wage_pay = random_num * pay\n",
    "    plus_pay = (random_num * pay) * 1.5\n",
    "    if random_num >= 40:\n",
    "        print('근로 시간 {}시간, 주급 {}'.format(random_num, int(plus_pay)))\n",
    "    else:\n",
    "        print('근로 시간 {}시간, 주급 {}'.format(random_num, wage_pay))"
   ]
  },
  {
   "cell_type": "code",
   "execution_count": 37,
   "id": "56929631",
   "metadata": {},
   "outputs": [],
   "source": [
    "#3번 난수를 생성하고 가장 큰 정수를 출력하는 프로그램"
   ]
  },
  {
   "cell_type": "code",
   "execution_count": 50,
   "id": "f8f7ee1a",
   "metadata": {},
   "outputs": [
    {
     "name": "stdout",
     "output_type": "stream",
     "text": [
      "77 37 49 중에서 최대: 77\n"
     ]
    }
   ],
   "source": [
    "from random import randint\n",
    "import random\n",
    "random_num = []\n",
    "for i in range(3):\n",
    "    temp = random.randint(1, 99)\n",
    "    random_num.append(temp)\n",
    "print(random_num[0], random_num[1], random_num[2], '중에서 최대:', max(random_num))"
   ]
  },
  {
   "cell_type": "code",
   "execution_count": 51,
   "id": "aac5da87",
   "metadata": {},
   "outputs": [],
   "source": [
    "#4번 BMI를 측정하고 체질량 지수를 계산해 판정 결과를 출력하는 프로그램"
   ]
  },
  {
   "cell_type": "code",
   "execution_count": 13,
   "id": "479d0c9e",
   "metadata": {},
   "outputs": [
    {
     "name": "stdout",
     "output_type": "stream",
     "text": [
      "당신의 키(cm)와 몸무게(kg)는? >> 171 72\n",
      "키: 171.0(cm), 몸무게: 72.0(kg)\n",
      "\n",
      "BMI: 24.6 정상\n"
     ]
    }
   ],
   "source": [
    "h, w = input('당신의 키(cm)와 몸무게(kg)는? >> ').split()\n",
    "h = float(h)\n",
    "w = float(w)\n",
    "bmi = w / ((h / 100)**2)\n",
    "bmi = float(bmi)\n",
    "if 40 <= bmi:\n",
    "    print('키: {:.1f}(cm), 몸무게: {:.1f}(kg)\\n'.format(h, w))\n",
    "    print('BMI: {} 고도비만'.format(bmi))\n",
    "elif 35 <= bmi < 40:\n",
    "    print('키: {:.1f}(cm), 몸무게: {:.1f}(kg)\\n'.format(h, w))\n",
    "    print('BMI: {:.1f} 중증도 비만'.format(bmi))\n",
    "elif 30 <= bmi < 35:\n",
    "    print('키: {:.1f}(cm), 몸무게: {:.1f}(kg)\\n'.format(h, w))\n",
    "    print('BMI: {:.1f} 비만'.format(bmi))\n",
    "elif 25 <= bmi < 30:\n",
    "    print('키: {:.1f}(cm), 몸무게: {:.1f}(kg)\\n'.format(h, w))\n",
    "    print('BMI: {:.1f} 과체중'.format(bmi))\n",
    "elif 18.5 <= bmi < 25:\n",
    "    print('키: {:.1f}(cm), 몸무게: {:.1f}(kg)\\n'.format(h, w))\n",
    "    print('BMI: {:.1f} 정상'.format(bmi))\n",
    "else:\n",
    "    print('키: {:.1f}(cm), 몸무게: {:.1f}(kg)\\n'.format(h, w))\n",
    "    print('BMI: {:.1f} 저체중'.format(bmi))"
   ]
  },
  {
   "cell_type": "code",
   "execution_count": 14,
   "id": "50c66011",
   "metadata": {},
   "outputs": [],
   "source": [
    " #5번 화씨로 변환해 출력하는 프로그램"
   ]
  },
  {
   "cell_type": "code",
   "execution_count": 18,
   "id": "b753483e",
   "metadata": {},
   "outputs": [
    {
     "name": "stdout",
     "output_type": "stream",
     "text": [
      "섭씨: 20 화씨: 68.0 화씨(약식): 70 차이: 2.00\n",
      "섭씨: 23 화씨: 73.4 화씨(약식): 76 차이: 2.60\n",
      "섭씨: 26 화씨: 78.8 화씨(약식): 82 차이: 3.20\n",
      "섭씨: 29 화씨: 84.2 화씨(약식): 88 차이: 3.80\n",
      "섭씨: 32 화씨: 89.6 화씨(약식): 94 차이: 4.40\n",
      "섭씨: 35 화씨: 95.0 화씨(약식): 100 차이: 5.00\n",
      "섭씨: 38 화씨: 100.4 화씨(약식): 106 차이: 5.60\n",
      "섭씨: 41 화씨: 105.8 화씨(약식): 112 차이: 6.20\n"
     ]
    }
   ],
   "source": [
    "c = 20;\n",
    "while c <= 41:\n",
    "    simple_trans_f = (c * 2 + 30)\n",
    "    trans_f = (c * (9/5) + 32)\n",
    "    absolute_f = abs(trans_f - simple_trans_f)\n",
    "    print('섭씨: {} 화씨: {:.1f} 화씨(약식): {} 차이: {:.2f}'.format(c, trans_f, simple_trans_f, absolute_f))\n",
    "    c += 3"
   ]
  },
  {
   "cell_type": "code",
   "execution_count": 19,
   "id": "9494d90c",
   "metadata": {},
   "outputs": [],
   "source": [
    "#6번 난수 2개 생성하고 곱하기 결과를 출력하는 프로그램"
   ]
  },
  {
   "cell_type": "code",
   "execution_count": null,
   "id": "057789b6",
   "metadata": {},
   "outputs": [
    {
     "name": "stdout",
     "output_type": "stream",
     "text": [
      "72 * 69 = 4968\n",
      "\n",
      "계속 y / n ? y\n",
      "72 * 69 = 4968\n",
      "\n"
     ]
    }
   ],
   "source": [
    "from random import randint\n",
    "import random\n",
    "random_temp = []\n",
    "while True:\n",
    "    for i in range(2):\n",
    "        temp = random.randint(1, 99)\n",
    "        random_temp.append(temp)\n",
    "    print('{} * {} = {}\\n'.format(random_temp[0], random_temp[1], random_temp[0] * random_temp[1]))\n",
    "    q = input('계속 y / n ? ')\n",
    "    if(q == 'y'):\n",
    "        continue\n",
    "    if(q == 'n'):\n",
    "        break;"
   ]
  },
  {
   "cell_type": "code",
   "execution_count": null,
   "id": "9dda2128",
   "metadata": {},
   "outputs": [],
   "source": []
  }
 ],
 "metadata": {
  "kernelspec": {
   "display_name": "Python 3 (ipykernel)",
   "language": "python",
   "name": "python3"
  },
  "language_info": {
   "codemirror_mode": {
    "name": "ipython",
    "version": 3
   },
   "file_extension": ".py",
   "mimetype": "text/x-python",
   "name": "python",
   "nbconvert_exporter": "python",
   "pygments_lexer": "ipython3",
   "version": "3.11.4"
  }
 },
 "nbformat": 4,
 "nbformat_minor": 5
}
