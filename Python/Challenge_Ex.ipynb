{
 "cells": [
  {
   "cell_type": "code",
   "execution_count": 1,
   "id": "09244a47",
   "metadata": {},
   "outputs": [],
   "source": [
    "#1번 month를 입력하면 계절을 출력하는 프로그램"
   ]
  },
  {
   "cell_type": "code",
   "execution_count": 13,
   "id": "014c6915",
   "metadata": {},
   "outputs": [
    {
     "name": "stdout",
     "output_type": "stream",
     "text": [
      "월 입력 ? 8\n",
      "8월 여름\n"
     ]
    }
   ],
   "source": [
    "month = int(input('월 입력 ? '))\n",
    "if month == 4 or month == 5:\n",
    "    print('{}월 봄'.format(month))\n",
    "if month == 6 or month == 7 or month == 8:\n",
    "    print('{}월 여름'.format(month))\n",
    "if month == 9 or month == 10:\n",
    "    print('{}월 가을'.format(month))\n",
    "if month == 11 or month == 12 or month == 1 or month == 2 or month == 3:\n",
    "    print('{}월 겨울'.format(month))"
   ]
  },
  {
   "cell_type": "code",
   "execution_count": 14,
   "id": "f08aa138",
   "metadata": {},
   "outputs": [],
   "source": [
    "#2번 주급을 계산하는 프로그램"
   ]
  },
  {
   "cell_type": "code",
   "execution_count": 36,
   "id": "4c71728c",
   "metadata": {},
   "outputs": [
    {
     "name": "stdout",
     "output_type": "stream",
     "text": [
      "근로 시간 37시간, 주급 444000\n",
      "근로 시간 38시간, 주급 456000\n",
      "근로 시간 44시간, 주급 792000\n",
      "근로 시간 45시간, 주급 810000\n",
      "근로 시간 47시간, 주급 846000\n"
     ]
    }
   ],
   "source": [
    "from random import randint\n",
    "import random\n",
    "pay = 12000\n",
    "for i in range(5):\n",
    "    random_num = random.randint(35, 50)\n",
    "    wage_pay = random_num * pay\n",
    "    plus_pay = (random_num * pay) * 1.5\n",
    "    if random_num >= 40:\n",
    "        print('근로 시간 {}시간, 주급 {}'.format(random_num, int(plus_pay)))\n",
    "    else:\n",
    "        print('근로 시간 {}시간, 주급 {}'.format(random_num, wage_pay))"
   ]
  },
  {
   "cell_type": "code",
   "execution_count": 37,
   "id": "56929631",
   "metadata": {},
   "outputs": [],
   "source": [
    "#3번 난수를 생성하고 가장 큰 정수를 출력하는 프로그램"
   ]
  },
  {
   "cell_type": "code",
   "execution_count": 50,
   "id": "f8f7ee1a",
   "metadata": {},
   "outputs": [
    {
     "name": "stdout",
     "output_type": "stream",
     "text": [
      "77 37 49 중에서 최대: 77\n"
     ]
    }
   ],
   "source": [
    "from random import randint\n",
    "import random\n",
    "random_num = []\n",
    "for i in range(3):\n",
    "    temp = random.randint(1, 99)\n",
    "    random_num.append(temp)\n",
    "print(random_num[0], random_num[1], random_num[2], '중에서 최대:', max(random_num))"
   ]
  },
  {
   "cell_type": "code",
   "execution_count": 51,
   "id": "aac5da87",
   "metadata": {},
   "outputs": [],
   "source": [
    "#4번 BMI를 측정하고 체질량 지수를 계산해 판정 결과를 출력하는 프로그램"
   ]
  },
  {
   "cell_type": "code",
   "execution_count": null,
   "id": "479d0c9e",
   "metadata": {},
   "outputs": [],
   "source": [
    "h, w = input('당신의 키(cm)와 몸무게(kg)는? >> ').split()\n",
    "int(bmi) = w / ((t/100)**2)\n",
    "print('키: {}(cm), 몸무게: {}(kg)\\n'.format(h, w))\n",
    "print('BMI: {} 정상'.format(bmi))"
   ]
  }
 ],
 "metadata": {
  "kernelspec": {
   "display_name": "Python 3 (ipykernel)",
   "language": "python",
   "name": "python3"
  },
  "language_info": {
   "codemirror_mode": {
    "name": "ipython",
    "version": 3
   },
   "file_extension": ".py",
   "mimetype": "text/x-python",
   "name": "python",
   "nbconvert_exporter": "python",
   "pygments_lexer": "ipython3",
   "version": "3.11.4"
  }
 },
 "nbformat": 4,
 "nbformat_minor": 5
}
