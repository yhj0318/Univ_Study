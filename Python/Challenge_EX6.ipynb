{
 "cells": [
  {
   "cell_type": "code",
   "execution_count": 1,
   "id": "c41749a7",
   "metadata": {},
   "outputs": [
    {
     "name": "stdout",
     "output_type": "stream",
     "text": [
      "이름: 김영희\n",
      "전화번호: 010-3017-4468\n",
      "성별: 여자\n",
      "나이: 22\n",
      "대학교: 한라대학교\n"
     ]
    }
   ],
   "source": [
    "# 개인 정보를 딕셔너리에 저장\n",
    "personal_info = {\"이름\": \"김영희\", \"전화번호\": \"010-3017-4468\", \"성별\": \"여자\", \"나이\": 22, \"대학교\": \"한라대학교\"}\n",
    "# 개인 정보 출력\n",
    "for key, value in personal_info.items():\n",
    "    print(f\"{key}: {value}\")"
   ]
  },
  {
   "cell_type": "code",
   "execution_count": 2,
   "id": "df588bcd",
   "metadata": {},
   "outputs": [
    {
     "name": "stdout",
     "output_type": "stream",
     "text": [
      "주식 이름 ? 엔씨소프트\n",
      "엔씨소프트: 52,600\n",
      "주식 이름 ? 골프존\n",
      "골프존: 215,000\n",
      "주식 이름 ? 현대\n",
      "현대 주식 이름이 없습니다.\n"
     ]
    }
   ],
   "source": [
    "# 주식 가격 정보를 딕셔너리에 저장\n",
    "stock_prices = {'삼성에스디에스': 242000, '삼성전자': 47000, '엔씨소프트': 52600, '핸디소프트': 5120, '골프존': 215000, '기아': 56300}\n",
    "while True:\n",
    "    stock_name = input(\"주식 이름 ? \")\n",
    "    # 주식 이름이 딕셔너리에 있는지 확인하고 출력\n",
    "    if stock_name in stock_prices:\n",
    "        print(f\"{stock_name}: {stock_prices[stock_name]:,}\")\n",
    "    else:\n",
    "        print(f\"{stock_name} 주식 이름이 없습니다.\")\n",
    "        break"
   ]
  },
  {
   "cell_type": "code",
   "execution_count": 3,
   "id": "63e2aef1",
   "metadata": {},
   "outputs": [
    {
     "name": "stdout",
     "output_type": "stream",
     "text": [
      "책 이름: 파이썬 개론, 저자: 강환수\n",
      "\n",
      "책 이름: Perfect C, 저자: 강환수, 이동규\n",
      "\n",
      "책 이름: 컴퓨터 개론, 저자: 강환수, 조진형, 신용현\n",
      "\n"
     ]
    }
   ],
   "source": [
    "# 책 정보 딕셔너리 생성\n",
    "books = {'파이썬 개론': ['강환수'], 'Perfect C': ['강환수', '이동규'], '컴퓨터 개론': ['강환수', '조진형', '신용현']}\n",
    "# 책 정보 출력\n",
    "for book, authors in books.items():\n",
    "    print(f\"책 이름: {book}, 저자:\", \", \".join(authors))\n",
    "    print()"
   ]
  },
  {
   "cell_type": "code",
   "execution_count": 4,
   "id": "95dce254",
   "metadata": {},
   "outputs": [
    {
     "name": "stdout",
     "output_type": "stream",
     "text": [
      "********************\n",
      "철수    영희    승자\n",
      "********************\n",
      "가위    가위    비김 1\n",
      "가위    가위    비김 2\n",
      "보오    바위    철수 1\n",
      "바위    가위    철수 2\n",
      "가위    바위    영희 1\n",
      "가위    가위    비김 3\n",
      "바위    보오    영희 2\n",
      "보오    바위    철수 3\n",
      "가위    바위    영희 3\n",
      "바위    바위    비김 4\n",
      "바위    바위    비김 5\n",
      "바위    바위    비김 6\n",
      "보오    가위    영희 4\n",
      "바위    보오    영희 5\n",
      "바위    가위    철수 4\n",
      "바위    가위    철수 5\n",
      "가위    가위    비김 7\n",
      "바위    바위    비김 8\n",
      "바위    바위    비김 9\n",
      "가위    가위    비김 10\n",
      "총 게임 회수\" 20 비긴 회수:10\n",
      "철수 승률: 0.25\n",
      "영희 승률: 0.25\n"
     ]
    }
   ],
   "source": [
    "from random import choice\n",
    "dcs = {'가위':'보오', '바위':'가위', '보오':'바위'}\n",
    "print(\"*\"*20)\n",
    "print('철수    영희    승자')\n",
    "print(\"*\"*20)\n",
    "cs_win = 0\n",
    "yh_win = 0\n",
    "draw = 0\n",
    "for i in range(20):\n",
    "    rsp = ('가위', '바위', '보오')\n",
    "    cs = choice(rsp)\n",
    "    yh = choice(rsp)\n",
    "    if cs == yh:\n",
    "        draw += 1\n",
    "        print('{}    {}    {} {}'.format(cs, yh, '비김', draw))\n",
    "    elif dcs[cs] == yh:\n",
    "        cs_win += 1\n",
    "        print('{}    {}    {} {}'.format(cs, yh, '철수', cs_win))\n",
    "    else:\n",
    "        yh_win += 1\n",
    "        print('{}    {}    {} {}'.format(cs, yh, '영희', yh_win))\n",
    "print('총 게임 회수\" {} 비긴 회수:{}'.format(20, draw))\n",
    "print('철수 승률: {}'.format(cs_win/20))\n",
    "print('영희 승률: {}'.format(yh_win/20))"
   ]
  },
  {
   "cell_type": "code",
   "execution_count": 21,
   "id": "a4c2dda3",
   "metadata": {},
   "outputs": [
    {
     "name": "stdout",
     "output_type": "stream",
     "text": [
      "{'apple': 1000, 'banana': 500, 'grapes': 1200, 'pear': 1500}\n",
      "\n",
      "1 apple 가격: 1000\n",
      "2 banana 가격: 500\n",
      "3 grapes 가격: 1200\n",
      "4 pear 가격: 1500\n"
     ]
    }
   ],
   "source": [
    "# 주어진 리스트와 튜플\n",
    "fruits = ['apple', 'banana', 'grapes', 'pear']\n",
    "prices = (1000, 500, 1200, 1500)\n",
    "# enumerate() 함수와 리스트 컴프리헨션을 사용하여 딕셔너리 생성\n",
    "fruit_prices = {fruit: price for fruit, price in zip(fruits, prices)}\n",
    "# 딕셔너리 출력\n",
    "print(fruit_prices)\n",
    "print()\n",
    "for index, (fruit, price) in enumerate(fruit_prices.items(), start=1):\n",
    "    print(f\"{index} {fruit} 가격: {price}\")"
   ]
  },
  {
   "cell_type": "code",
   "execution_count": 27,
   "id": "57458d7d",
   "metadata": {},
   "outputs": [
    {
     "name": "stdout",
     "output_type": "stream",
     "text": [
      "A = {5, 6, 11, 12, 13}\n",
      "B = {1, 2, 6, 17, 19}\n",
      "\n",
      "A | B = {1, 2, 5, 6, 11, 12, 13, 17, 19}\n",
      "A & B = {6}\n",
      "A - B = {13, 11, 12, 5}\n",
      "A ^ B = {1, 2, 5, 11, 12, 13, 17, 19}\n"
     ]
    }
   ],
   "source": [
    "from random import sample\n",
    "A = set(sample(list(range(1,21)), 5))\n",
    "B = set(sample(list(range(1,21)), 5))\n",
    "print(\"A = {}\".format(A))\n",
    "print(\"B = {}\".format(B))\n",
    "print()\n",
    "print('A | B = {}'.format(A | B))\n",
    "print('A & B = {}'.format(A & B))\n",
    "print('A - B = {}'.format(A - B))\n",
    "print('A ^ B = {}'.format(A ^ B))"
   ]
  },
  {
   "cell_type": "code",
   "execution_count": null,
   "id": "a4103b22",
   "metadata": {},
   "outputs": [],
   "source": []
  }
 ],
 "metadata": {
  "kernelspec": {
   "display_name": "Python 3 (ipykernel)",
   "language": "python",
   "name": "python3"
  },
  "language_info": {
   "codemirror_mode": {
    "name": "ipython",
    "version": 3
   },
   "file_extension": ".py",
   "mimetype": "text/x-python",
   "name": "python",
   "nbconvert_exporter": "python",
   "pygments_lexer": "ipython3",
   "version": "3.11.4"
  }
 },
 "nbformat": 4,
 "nbformat_minor": 5
}
