{
 "cells": [
  {
   "cell_type": "code",
   "execution_count": 1,
   "id": "41c9af7b",
   "metadata": {},
   "outputs": [],
   "source": [
    "# 1번 난수를 리스트로 생성하고 리스트와 정렬된 리스트, 내림차순으로 정렬된 역순 리스트를 출력하는 프로그램"
   ]
  },
  {
   "cell_type": "code",
   "execution_count": 2,
   "id": "c3b6413c",
   "metadata": {},
   "outputs": [
    {
     "name": "stdout",
     "output_type": "stream",
     "text": [
      "리스트 [97, 16, 87, 1, 81, 95, 96, 31, 5, 10]\n",
      "정렬 리스트 [1, 5, 10, 16, 31, 81, 87, 95, 96, 97]\n",
      "역순 리스트 [97, 96, 95, 87, 81, 31, 16, 10, 5, 1]\n"
     ]
    }
   ],
   "source": [
    "from random import randint\n",
    "import random\n",
    "random_num = []\n",
    "for i in range(10):\n",
    "    random_num.append(random.randint(1, 99))\n",
    "print('리스트 {}'.format(random_num))\n",
    "random_num.sort()\n",
    "print('정렬 리스트 {}'.format(random_num))\n",
    "random_num.sort(reverse=True)\n",
    "print('역순 리스트 {}'.format(random_num))"
   ]
  },
  {
   "cell_type": "code",
   "execution_count": 3,
   "id": "0e911a98",
   "metadata": {},
   "outputs": [],
   "source": [
    "# 2번 한글을 영어로 만들고 한글을 입력받아 영어로 출력하는 프로그램"
   ]
  },
  {
   "cell_type": "code",
   "execution_count": 4,
   "id": "27d6193b",
   "metadata": {},
   "outputs": [
    {
     "name": "stdout",
     "output_type": "stream",
     "text": [
      "찾을 단어 입력 ? 초보자\n",
      "novice\n"
     ]
    }
   ],
   "source": [
    "korean = ('정렬', '초보자', '내포', '사전')\n",
    "english = ('sorting', 'novice', 'comprehension', 'dictionary')\n",
    "word = input('찾을 단어 입력 ? ')\n",
    "cnt = korean.count(word)\n",
    "if cnt >= 1:\n",
    "    index = korean.index(word)\n",
    "    print('{}'.format(english[index]))\n",
    "else:\n",
    "    print('사전에 없는 단어입니다.')     "
   ]
  },
  {
   "cell_type": "code",
   "execution_count": 5,
   "id": "c0e1a487",
   "metadata": {},
   "outputs": [],
   "source": [
    "# 3번 리스트를 만들고 슬라이스하여 슬라이스 결과를 출력하는 프로그램"
   ]
  },
  {
   "cell_type": "code",
   "execution_count": 6,
   "id": "a61e98d3",
   "metadata": {},
   "outputs": [
    {
     "name": "stdout",
     "output_type": "stream",
     "text": [
      "+ 012345678901\n",
      "  HelloPython!\n",
      "- 210987654321\n",
      "슬라이스 [?:?:?] 3개 입력 >> 3 10 2\n",
      "['l', 'P', 't', 'o']\n",
      "슬라이스 [?:?:?] 3개 입력 >> 0 0 0\n",
      "*********종료*********\n"
     ]
    }
   ],
   "source": [
    "word = list('HelloPython!')\n",
    "print('''+ 012345678901\n",
    "  HelloPython!\n",
    "- 210987654321''')\n",
    "while True:\n",
    "    a, b, c = map(int, input('슬라이스 [?:?:?] 3개 입력 >> ').split())        \n",
    "    if a == 0 and b == 0 and c == 0:\n",
    "        print('종료'.center(20,'*'))\n",
    "        break\n",
    "    else:\n",
    "        print(word[a:b:c])"
   ]
  },
  {
   "cell_type": "code",
   "execution_count": 7,
   "id": "259b4ce7",
   "metadata": {},
   "outputs": [],
   "source": [
    "# 4번 리스트의 각 행의 합과 열의 합을 저장해서 출력하는 프로그램"
   ]
  },
  {
   "cell_type": "code",
   "execution_count": 8,
   "id": "cc9b1413",
   "metadata": {
    "scrolled": true
   },
   "outputs": [
    {
     "name": "stdout",
     "output_type": "stream",
     "text": [
      "각 행의 합: [6, 15, 24]\n",
      "각 열의 합: [12, 15, 18]\n"
     ]
    }
   ],
   "source": [
    "data = [[1, 2, 3], [4, 5, 6], [7, 8, 9]]\n",
    "rsum = list()\n",
    "csum = list()\n",
    "# 각 행의 합 계산\n",
    "for row in data:\n",
    "    row_sum = sum(row)\n",
    "    rsum.append(row_sum)\n",
    "# 각 열의 합 계산\n",
    "for i in range(3):\n",
    "    col_sum = sum(data[j][i] for j in range(3))\n",
    "    csum.append(col_sum)\n",
    "\n",
    "print('각 행의 합: {}'.format(rsum))\n",
    "print('각 열의 합: {}'.format(csum))"
   ]
  },
  {
   "cell_type": "code",
   "execution_count": 9,
   "id": "4e834545",
   "metadata": {},
   "outputs": [],
   "source": [
    "# 5번 리스트의 출력 방식을 다르게 하여 출력하는 프로그램"
   ]
  },
  {
   "cell_type": "code",
   "execution_count": 10,
   "id": "78d94ad7",
   "metadata": {},
   "outputs": [
    {
     "name": "stdout",
     "output_type": "stream",
     "text": [
      "메소드 insert()로 팀원 수 삽입\n",
      "['축구', 11, '야구', 9, '농구', 5, '배구', 6]\n",
      "메소드 insert()로 '' 삽입\n",
      "['축구', '', '야구', '', '농구', '', '배구', '']\n",
      "슬라이스 sports[1::2]에 num을 대입\n",
      "['축구', 11, '야구', 9, '농구', 5, '배구', 6]\n"
     ]
    }
   ],
   "source": [
    "sports = ['축구','야구','농구','배구']\n",
    "num = [11, 9, 5, 6]\n",
    "for i in range(len(num)):\n",
    "    sports.insert(2 * i + 1, num[i])\n",
    "print('메소드 insert()로 팀원 수 삽입\\n{}'.format(sports))\n",
    "for i in range(len(sports)):\n",
    "    if i % 2 == 1:\n",
    "        sports[i] = ''\n",
    "print('메소드 insert()로 \\'\\' 삽입\\n{}'.format(sports))\n",
    "sports[1::2] = num\n",
    "print('슬라이스 sports[1::2]에 num을 대입\\n{}'.format(sports))"
   ]
  },
  {
   "cell_type": "code",
   "execution_count": 11,
   "id": "3400f372",
   "metadata": {},
   "outputs": [],
   "source": [
    "# 6번 중첩된 리스트를 for문으로 행과 열을 맞춰 출력하고 전치 행렬로 바꿔서 출력하는 프로그램"
   ]
  },
  {
   "cell_type": "code",
   "execution_count": 12,
   "id": "b14f04c5",
   "metadata": {},
   "outputs": [
    {
     "name": "stdout",
     "output_type": "stream",
     "text": [
      "원 행렬(m) 출력:\n",
      "1 2 \n",
      "3 4 \n",
      "5 6 \n",
      "7 8 \n",
      "전치 행렬 출력:\n",
      "1 3 5 7 \n",
      "2 4 6 8 \n"
     ]
    }
   ],
   "source": [
    "m = [[1,2], [3,4], [5,6], [7,8]]\n",
    "transpose = [[row[i] for row in m] for i in range(len(m[0]))]\n",
    "# 원본 리스트 출력 (행과 열을 맞춰 출력)\n",
    "print('원 행렬(m) 출력:')\n",
    "for row in m:\n",
    "    for element in row:\n",
    "        print(element, end=' ')\n",
    "    print()\n",
    "\n",
    "# 행과 열이 바뀐 형태로 출력\n",
    "num_rows = len(m)\n",
    "num_cols = len(m[0])\n",
    "print('전치 행렬 출력:')\n",
    "for i in range(num_cols):\n",
    "    for j in range(num_rows):\n",
    "        print(m[j][i], end=' ')\n",
    "    print()"
   ]
  },
  {
   "cell_type": "code",
   "execution_count": 13,
   "id": "a2020ff6",
   "metadata": {},
   "outputs": [],
   "source": [
    "# 7번 6번과 동일한 리스트에서 컴프리헨션을 활용해 출력하는 프로그램"
   ]
  },
  {
   "cell_type": "code",
   "execution_count": 14,
   "id": "96455415",
   "metadata": {},
   "outputs": [
    {
     "name": "stdout",
     "output_type": "stream",
     "text": [
      "트랜스포즈를 컴프리헨션으로 만들어 그대로 출력:\n",
      "[[1, 3, 5, 7], [2, 4, 6, 8]]\n",
      "\n",
      "트랜스포즈를 for문으로 출력:\n",
      "1 3 5 7 \n",
      "2 4 6 8 \n"
     ]
    }
   ],
   "source": [
    "m = [[1, 2], [3, 4], [5, 6], [7, 8]]\n",
    "transpose = [[row[i] for row in m] for i in range(len(m[0]))]\n",
    "# 원본 리스트 출력 (행과 열을 맞춰 출력)\n",
    "print('트랜스포즈를 컴프리헨션으로 만들어 그대로 출력:')\n",
    "print(transpose)\n",
    "print()\n",
    "\n",
    "# 행과 열이 바뀐 형태로 출력\n",
    "print('트랜스포즈를 for문으로 출력:')\n",
    "for row in transpose:\n",
    "    for element in row:\n",
    "        print(element, end=' ')\n",
    "    print()"
   ]
  },
  {
   "cell_type": "code",
   "execution_count": 15,
   "id": "15239f7d",
   "metadata": {},
   "outputs": [],
   "source": [
    "# 8번 난수 10개를 리스트로 만들고 튜플로 변환하고 리스트의 합, 항목 수, 최대, 최소, 평균을 출력하는 프로그램"
   ]
  },
  {
   "cell_type": "code",
   "execution_count": 16,
   "id": "c234ac3f",
   "metadata": {},
   "outputs": [
    {
     "name": "stdout",
     "output_type": "stream",
     "text": [
      "리스트: [44, 68, 80, 44, 37, 81, 13, 86, 30, 10]\n",
      "튜플: (44, 68, 80, 44, 37, 81, 13, 86, 30, 10)\n",
      "튜플 정렬된 리스트: [10, 13, 30, 37, 44, 44, 68, 80, 81, 86]\n",
      "\n",
      "합: 493, 항목 수: 10\n",
      "최대: 86, 최소: 10, 평균: 49.3\n"
     ]
    }
   ],
   "source": [
    "import random\n",
    "# 1에서 99까지의 난수 10개로 리스트 생성\n",
    "random_numbers = [random.randint(1, 99) for _ in range(10)]\n",
    "# 리스트를 튜플로 변환\n",
    "random_tuple = tuple(random_numbers)\n",
    "# 리스트 정렬\n",
    "sorted_list = sorted(random_numbers)\n",
    "# 합, 항목 수, 최대, 최소, 평균 계산\n",
    "total = sum(random_numbers)\n",
    "count = len(random_numbers)\n",
    "maximum = max(random_numbers)\n",
    "minimum = min(random_numbers)\n",
    "average = total / count\n",
    "# 결과 출력\n",
    "print(\"리스트: {}\".format(random_numbers))\n",
    "print(\"튜플:\",random_tuple)\n",
    "print(\"튜플 정렬된 리스트: {}\".format(sorted_list))\n",
    "print()\n",
    "print(\"합: {}, 항목 수: {}\".format(total, count))\n",
    "print(\"최대: {}, 최소: {}, 평균: {}\".format(maximum, minimum, average))"
   ]
  }
 ],
 "metadata": {
  "kernelspec": {
   "display_name": "Python 3 (ipykernel)",
   "language": "python",
   "name": "python3"
  },
  "language_info": {
   "codemirror_mode": {
    "name": "ipython",
    "version": 3
   },
   "file_extension": ".py",
   "mimetype": "text/x-python",
   "name": "python",
   "nbconvert_exporter": "python",
   "pygments_lexer": "ipython3",
   "version": "3.11.4"
  }
 },
 "nbformat": 4,
 "nbformat_minor": 5
}
